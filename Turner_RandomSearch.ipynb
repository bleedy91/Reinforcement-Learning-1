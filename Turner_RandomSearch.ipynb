{
  "nbformat": 4,
  "nbformat_minor": 0,
  "metadata": {
    "colab": {
      "provenance": []
    },
    "kernelspec": {
      "name": "python3",
      "display_name": "Python 3"
    },
    "language_info": {
      "name": "python"
    },
    "accelerator": "GPU",
    "gpuClass": "standard"
  },
  "cells": [
    {
      "cell_type": "markdown",
      "source": [],
      "metadata": {
        "id": "LXvfaRZMIZQi"
      }
    },
    {
      "cell_type": "markdown",
      "source": [
        "Team members:\n",
        "\n",
        "Name: Xi Yu\n",
        "StudentID: 22015116\n",
        "\n",
        "Name: Chenxin Li\n",
        "Student ID: 22066519"
      ],
      "metadata": {
        "id": "RZPFoxMMXmFv"
      }
    },
    {
      "cell_type": "markdown",
      "source": [
        "The second line in the book should be a comment stating if the code executes to the end without an error."
      ],
      "metadata": {
        "id": "bOsZTRLAbvqW"
      }
    },
    {
      "cell_type": "markdown",
      "source": [
        "The third line in the book should be a comment with a link to the original source where you opted to reuse an existing implementation.\n"
      ],
      "metadata": {
        "id": "FZdCVE09cFED"
      }
    },
    {
      "cell_type": "markdown",
      "source": [
        "try cnn here, refer to https://www.kaggle.com/code/mdmosarrofhossen/brain-tumor-detection-accuracy-100-val-acc-100"
      ],
      "metadata": {
        "id": "w44ATSSLcI1M"
      }
    },
    {
      "cell_type": "markdown",
      "source": [
        "kaggle dataset here: https://www.kaggle.com/datasets/navoneel/brain-mri-images-for-brain-tumor-detection\n",
        "\n",
        "maybe not enough large. We will try to train and see the process time."
      ],
      "metadata": {
        "id": "5lneO5gucaOe"
      }
    },
    {
      "cell_type": "markdown",
      "source": [
        "Add GPU to accelerate"
      ],
      "metadata": {
        "id": "W6BkI4HCprLl"
      }
    },
    {
      "cell_type": "code",
      "source": [
        "import time\n",
        "start_time = time.time()"
      ],
      "metadata": {
        "id": "L9w81qV5TA2l"
      },
      "execution_count": null,
      "outputs": []
    },
    {
      "cell_type": "code",
      "source": [
        "import tensorflow as tf\n",
        "device_name = tf.test.gpu_device_name()\n",
        "if device_name != '/device:GPU:0':\n",
        "  print(device_name)\n",
        "  raise SystemError('GPU device not found')\n",
        "print('Found GPU at: {}'.format(device_name))\n",
        "tf.device('/device:GPU:0')"
      ],
      "metadata": {
        "id": "EaQA-nIKpto8",
        "colab": {
          "base_uri": "https://localhost:8080/"
        },
        "outputId": "ff73482b-b0fc-42f4-ef2c-7ed88652f76a"
      },
      "execution_count": null,
      "outputs": [
        {
          "output_type": "stream",
          "name": "stdout",
          "text": [
            "Found GPU at: /device:GPU:0\n"
          ]
        },
        {
          "output_type": "execute_result",
          "data": {
            "text/plain": [
              "<tensorflow.python.eager.context._EagerDeviceContext at 0x7fed234c2240>"
            ]
          },
          "metadata": {},
          "execution_count": 2
        }
      ]
    },
    {
      "cell_type": "code",
      "source": [
        "!rm -rf Brain_MRI_Image\n",
        "! git clone https://github.com/TravellerXi/Brain_MRI_Image"
      ],
      "metadata": {
        "colab": {
          "base_uri": "https://localhost:8080/"
        },
        "id": "YkbRfi3rfyT1",
        "outputId": "7e47421c-de3e-4c0c-af22-3cc8336e362e"
      },
      "execution_count": null,
      "outputs": [
        {
          "output_type": "stream",
          "name": "stdout",
          "text": [
            "Cloning into 'Brain_MRI_Image'...\n",
            "remote: Enumerating objects: 3031, done.\u001b[K\n",
            "remote: Counting objects: 100% (242/242), done.\u001b[K\n",
            "remote: Compressing objects: 100% (238/238), done.\u001b[K\n",
            "remote: Total 3031 (delta 4), reused 242 (delta 4), pack-reused 2789\u001b[K\n",
            "Receiving objects: 100% (3031/3031), 78.64 MiB | 16.12 MiB/s, done.\n",
            "Resolving deltas: 100% (4/4), done.\n",
            "Updating files: 100% (3128/3128), done.\n"
          ]
        }
      ]
    },
    {
      "cell_type": "code",
      "source": [
        "! ls"
      ],
      "metadata": {
        "colab": {
          "base_uri": "https://localhost:8080/"
        },
        "id": "zBQWPBg8f3z5",
        "outputId": "2c600be6-26c5-465c-8ebf-2452169c1e30"
      },
      "execution_count": null,
      "outputs": [
        {
          "output_type": "stream",
          "name": "stdout",
          "text": [
            "Brain_MRI_Image  sample_data\n"
          ]
        }
      ]
    },
    {
      "cell_type": "code",
      "execution_count": null,
      "metadata": {
        "id": "ljODIDoK8x5T"
      },
      "outputs": [],
      "source": [
        "import numpy as np\n",
        "import pandas as pd\n",
        "import matplotlib.pyplot as plt\n",
        "import seaborn as sns\n",
        "#import tensorflow as tf\n",
        "from tensorflow import keras\n",
        "from keras.preprocessing.image import ImageDataGenerator\n",
        "\n",
        "import warnings\n",
        "warnings.filterwarnings('ignore')\n",
        "\n",
        "np.random.seed(42)\n",
        "tf.random.set_seed(42)"
      ]
    },
    {
      "cell_type": "code",
      "source": [
        "#intializing the image size and batch size\n",
        "height = 244\n",
        "width = 244\n",
        "batch_size=32"
      ],
      "metadata": {
        "id": "8kZjaK6odMGT"
      },
      "execution_count": null,
      "outputs": []
    },
    {
      "cell_type": "code",
      "source": [
        "dataset_train_dir = \"Brain_MRI_Image/train/\"\n",
        "dataset_test_dir = \"Brain_MRI_Image/test/\""
      ],
      "metadata": {
        "id": "b42d-YpLgmVx"
      },
      "execution_count": null,
      "outputs": []
    },
    {
      "cell_type": "code",
      "source": [
        "datagen_test = ImageDataGenerator(\n",
        "            rescale=1./255.,\n",
        "            )\n",
        "\n",
        "test_ds=datagen_test.flow_from_directory(\n",
        "        dataset_test_dir,\n",
        "        shuffle=True,\n",
        "        batch_size=32,\n",
        "        class_mode=\"binary\",\n",
        "        target_size=(height, width),\n",
        "        classes={'no': 0., 'yes': 1.}\n",
        "    )\n",
        "print(test_ds)\n"
      ],
      "metadata": {
        "colab": {
          "base_uri": "https://localhost:8080/"
        },
        "id": "lfjiV-EOklo1",
        "outputId": "4b4a9c55-673b-4c87-9641-fddb37067a16"
      },
      "execution_count": null,
      "outputs": [
        {
          "output_type": "stream",
          "name": "stdout",
          "text": [
            "Found 38 images belonging to 2 classes.\n",
            "<keras.preprocessing.image.DirectoryIterator object at 0x7fec82fb0ca0>\n"
          ]
        }
      ]
    },
    {
      "cell_type": "code",
      "source": [
        "def image_gen(height, width):\n",
        "    datagen_train = ImageDataGenerator(\n",
        "            rescale=1./255.,\n",
        "            validation_split=0.2,\n",
        "            )\n",
        "    train_ds = datagen_train.flow_from_directory(\n",
        "        dataset_train_dir,\n",
        "        batch_size=batch_size,\n",
        "        subset=\"training\",\n",
        "        shuffle=True,\n",
        "        class_mode=\"binary\",\n",
        "        target_size=(height, width),\n",
        "        classes={'no': 0., 'yes': 1.}\n",
        "    )\n",
        "    \n",
        "    val_ds = datagen_train.flow_from_directory(\n",
        "        dataset_train_dir,\n",
        "        batch_size=batch_size,\n",
        "        subset=\"validation\",\n",
        "        shuffle=True,\n",
        "        class_mode=\"binary\",\n",
        "        target_size=(height, width),\n",
        "        classes={'no': 0., 'yes': 1.}\n",
        "    )\n",
        "\n",
        "   \n",
        "    return train_ds, val_ds\n",
        "    \n",
        "\n",
        "\n",
        "train_ds, val_ds = image_gen(height, width)\n",
        "\n",
        "\n",
        "total_images = np.concatenate([train_ds.labels, val_ds.labels,test_ds.labels])\n",
        "print('\\n\\n',{\"No brain tumor cases\": len(np.where(total_images==0)[0]),\n",
        "             \"Brain tumor cases\": len(np.where(total_images==1)[0])})\n"
      ],
      "metadata": {
        "colab": {
          "base_uri": "https://localhost:8080/"
        },
        "id": "lrpUXn8Bk52d",
        "outputId": "ac9b76db-bb01-4660-b746-d5acfdd082f6"
      },
      "execution_count": null,
      "outputs": [
        {
          "output_type": "stream",
          "name": "stdout",
          "text": [
            "Found 2469 images belonging to 2 classes.\n",
            "Found 616 images belonging to 2 classes.\n",
            "\n",
            "\n",
            " {'No brain tumor cases': 493, 'Brain tumor cases': 2630}\n"
          ]
        }
      ]
    },
    {
      "cell_type": "code",
      "source": [
        "from keras.applications import ResNet50V2\n",
        "from keras.layers import Dense, Flatten, GlobalAveragePooling2D, Dropout, GlobalMaxPooling2D\n",
        "from keras.optimizers import Adam\n",
        "from keras.models import Sequential, load_model"
      ],
      "metadata": {
        "id": "3Qh-LaMQoK32"
      },
      "execution_count": null,
      "outputs": []
    },
    {
      "cell_type": "code",
      "source": [
        "! pip install scikit-optimize\n",
        "! pip install keras-tuner"
      ],
      "metadata": {
        "colab": {
          "base_uri": "https://localhost:8080/"
        },
        "id": "J8fZ6ih8Mh7T",
        "outputId": "81ddd4af-a9d7-486c-df4a-8d42e17360d0"
      },
      "execution_count": null,
      "outputs": [
        {
          "output_type": "stream",
          "name": "stdout",
          "text": [
            "Looking in indexes: https://pypi.org/simple, https://us-python.pkg.dev/colab-wheels/public/simple/\n",
            "Collecting scikit-optimize\n",
            "  Downloading scikit_optimize-0.9.0-py2.py3-none-any.whl (100 kB)\n",
            "\u001b[2K     \u001b[90m━━━━━━━━━━━━━━━━━━━━━━━━━━━━━━━━━━━━━━━\u001b[0m \u001b[32m100.3/100.3 KB\u001b[0m \u001b[31m2.1 MB/s\u001b[0m eta \u001b[36m0:00:00\u001b[0m\n",
            "\u001b[?25hCollecting pyaml>=16.9\n",
            "  Downloading pyaml-21.10.1-py2.py3-none-any.whl (24 kB)\n",
            "Requirement already satisfied: numpy>=1.13.3 in /usr/local/lib/python3.9/dist-packages (from scikit-optimize) (1.22.4)\n",
            "Requirement already satisfied: joblib>=0.11 in /usr/local/lib/python3.9/dist-packages (from scikit-optimize) (1.1.1)\n",
            "Requirement already satisfied: scikit-learn>=0.20.0 in /usr/local/lib/python3.9/dist-packages (from scikit-optimize) (1.2.2)\n",
            "Requirement already satisfied: scipy>=0.19.1 in /usr/local/lib/python3.9/dist-packages (from scikit-optimize) (1.10.1)\n",
            "Requirement already satisfied: PyYAML in /usr/local/lib/python3.9/dist-packages (from pyaml>=16.9->scikit-optimize) (6.0)\n",
            "Requirement already satisfied: threadpoolctl>=2.0.0 in /usr/local/lib/python3.9/dist-packages (from scikit-learn>=0.20.0->scikit-optimize) (3.1.0)\n",
            "Installing collected packages: pyaml, scikit-optimize\n",
            "Successfully installed pyaml-21.10.1 scikit-optimize-0.9.0\n",
            "Looking in indexes: https://pypi.org/simple, https://us-python.pkg.dev/colab-wheels/public/simple/\n",
            "Collecting keras-tuner\n",
            "  Downloading keras_tuner-1.3.0-py3-none-any.whl (167 kB)\n",
            "\u001b[2K     \u001b[90m━━━━━━━━━━━━━━━━━━━━━━━━━━━━━━━━━━━━━━━\u001b[0m \u001b[32m167.3/167.3 KB\u001b[0m \u001b[31m4.9 MB/s\u001b[0m eta \u001b[36m0:00:00\u001b[0m\n",
            "\u001b[?25hRequirement already satisfied: ipython in /usr/local/lib/python3.9/dist-packages (from keras-tuner) (7.9.0)\n",
            "Collecting kt-legacy\n",
            "  Downloading kt_legacy-1.0.4-py3-none-any.whl (9.6 kB)\n",
            "Requirement already satisfied: tensorflow>=2.0 in /usr/local/lib/python3.9/dist-packages (from keras-tuner) (2.11.0)\n",
            "Requirement already satisfied: packaging in /usr/local/lib/python3.9/dist-packages (from keras-tuner) (23.0)\n",
            "Requirement already satisfied: requests in /usr/local/lib/python3.9/dist-packages (from keras-tuner) (2.27.1)\n",
            "Requirement already satisfied: absl-py>=1.0.0 in /usr/local/lib/python3.9/dist-packages (from tensorflow>=2.0->keras-tuner) (1.4.0)\n",
            "Requirement already satisfied: six>=1.12.0 in /usr/local/lib/python3.9/dist-packages (from tensorflow>=2.0->keras-tuner) (1.16.0)\n",
            "Requirement already satisfied: gast<=0.4.0,>=0.2.1 in /usr/local/lib/python3.9/dist-packages (from tensorflow>=2.0->keras-tuner) (0.4.0)\n",
            "Requirement already satisfied: tensorflow-estimator<2.12,>=2.11.0 in /usr/local/lib/python3.9/dist-packages (from tensorflow>=2.0->keras-tuner) (2.11.0)\n",
            "Requirement already satisfied: termcolor>=1.1.0 in /usr/local/lib/python3.9/dist-packages (from tensorflow>=2.0->keras-tuner) (2.2.0)\n",
            "Requirement already satisfied: numpy>=1.20 in /usr/local/lib/python3.9/dist-packages (from tensorflow>=2.0->keras-tuner) (1.22.4)\n",
            "Requirement already satisfied: keras<2.12,>=2.11.0 in /usr/local/lib/python3.9/dist-packages (from tensorflow>=2.0->keras-tuner) (2.11.0)\n",
            "Requirement already satisfied: libclang>=13.0.0 in /usr/local/lib/python3.9/dist-packages (from tensorflow>=2.0->keras-tuner) (15.0.6.1)\n",
            "Requirement already satisfied: flatbuffers>=2.0 in /usr/local/lib/python3.9/dist-packages (from tensorflow>=2.0->keras-tuner) (23.3.3)\n",
            "Requirement already satisfied: grpcio<2.0,>=1.24.3 in /usr/local/lib/python3.9/dist-packages (from tensorflow>=2.0->keras-tuner) (1.51.3)\n",
            "Requirement already satisfied: tensorboard<2.12,>=2.11 in /usr/local/lib/python3.9/dist-packages (from tensorflow>=2.0->keras-tuner) (2.11.2)\n",
            "Requirement already satisfied: opt-einsum>=2.3.2 in /usr/local/lib/python3.9/dist-packages (from tensorflow>=2.0->keras-tuner) (3.3.0)\n",
            "Requirement already satisfied: setuptools in /usr/local/lib/python3.9/dist-packages (from tensorflow>=2.0->keras-tuner) (67.6.0)\n",
            "Requirement already satisfied: tensorflow-io-gcs-filesystem>=0.23.1 in /usr/local/lib/python3.9/dist-packages (from tensorflow>=2.0->keras-tuner) (0.31.0)\n",
            "Requirement already satisfied: astunparse>=1.6.0 in /usr/local/lib/python3.9/dist-packages (from tensorflow>=2.0->keras-tuner) (1.6.3)\n",
            "Requirement already satisfied: wrapt>=1.11.0 in /usr/local/lib/python3.9/dist-packages (from tensorflow>=2.0->keras-tuner) (1.15.0)\n",
            "Requirement already satisfied: protobuf<3.20,>=3.9.2 in /usr/local/lib/python3.9/dist-packages (from tensorflow>=2.0->keras-tuner) (3.19.6)\n",
            "Requirement already satisfied: h5py>=2.9.0 in /usr/local/lib/python3.9/dist-packages (from tensorflow>=2.0->keras-tuner) (3.8.0)\n",
            "Requirement already satisfied: typing-extensions>=3.6.6 in /usr/local/lib/python3.9/dist-packages (from tensorflow>=2.0->keras-tuner) (4.5.0)\n",
            "Requirement already satisfied: google-pasta>=0.1.1 in /usr/local/lib/python3.9/dist-packages (from tensorflow>=2.0->keras-tuner) (0.2.0)\n",
            "Requirement already satisfied: prompt-toolkit<2.1.0,>=2.0.0 in /usr/local/lib/python3.9/dist-packages (from ipython->keras-tuner) (2.0.10)\n",
            "Requirement already satisfied: traitlets>=4.2 in /usr/local/lib/python3.9/dist-packages (from ipython->keras-tuner) (5.7.1)\n",
            "Collecting jedi>=0.10\n",
            "  Downloading jedi-0.18.2-py2.py3-none-any.whl (1.6 MB)\n",
            "\u001b[2K     \u001b[90m━━━━━━━━━━━━━━━━━━━━━━━━━━━━━━━━━━━━━━━━\u001b[0m \u001b[32m1.6/1.6 MB\u001b[0m \u001b[31m33.6 MB/s\u001b[0m eta \u001b[36m0:00:00\u001b[0m\n",
            "\u001b[?25hRequirement already satisfied: pygments in /usr/local/lib/python3.9/dist-packages (from ipython->keras-tuner) (2.6.1)\n",
            "Requirement already satisfied: backcall in /usr/local/lib/python3.9/dist-packages (from ipython->keras-tuner) (0.2.0)\n",
            "Requirement already satisfied: pexpect in /usr/local/lib/python3.9/dist-packages (from ipython->keras-tuner) (4.8.0)\n",
            "Requirement already satisfied: pickleshare in /usr/local/lib/python3.9/dist-packages (from ipython->keras-tuner) (0.7.5)\n",
            "Requirement already satisfied: decorator in /usr/local/lib/python3.9/dist-packages (from ipython->keras-tuner) (4.4.2)\n",
            "Requirement already satisfied: charset-normalizer~=2.0.0 in /usr/local/lib/python3.9/dist-packages (from requests->keras-tuner) (2.0.12)\n",
            "Requirement already satisfied: urllib3<1.27,>=1.21.1 in /usr/local/lib/python3.9/dist-packages (from requests->keras-tuner) (1.26.15)\n",
            "Requirement already satisfied: certifi>=2017.4.17 in /usr/local/lib/python3.9/dist-packages (from requests->keras-tuner) (2022.12.7)\n",
            "Requirement already satisfied: idna<4,>=2.5 in /usr/local/lib/python3.9/dist-packages (from requests->keras-tuner) (3.4)\n",
            "Requirement already satisfied: wheel<1.0,>=0.23.0 in /usr/local/lib/python3.9/dist-packages (from astunparse>=1.6.0->tensorflow>=2.0->keras-tuner) (0.40.0)\n",
            "Requirement already satisfied: parso<0.9.0,>=0.8.0 in /usr/local/lib/python3.9/dist-packages (from jedi>=0.10->ipython->keras-tuner) (0.8.3)\n",
            "Requirement already satisfied: wcwidth in /usr/local/lib/python3.9/dist-packages (from prompt-toolkit<2.1.0,>=2.0.0->ipython->keras-tuner) (0.2.6)\n",
            "Requirement already satisfied: google-auth-oauthlib<0.5,>=0.4.1 in /usr/local/lib/python3.9/dist-packages (from tensorboard<2.12,>=2.11->tensorflow>=2.0->keras-tuner) (0.4.6)\n",
            "Requirement already satisfied: werkzeug>=1.0.1 in /usr/local/lib/python3.9/dist-packages (from tensorboard<2.12,>=2.11->tensorflow>=2.0->keras-tuner) (2.2.3)\n",
            "Requirement already satisfied: google-auth<3,>=1.6.3 in /usr/local/lib/python3.9/dist-packages (from tensorboard<2.12,>=2.11->tensorflow>=2.0->keras-tuner) (2.16.2)\n",
            "Requirement already satisfied: tensorboard-data-server<0.7.0,>=0.6.0 in /usr/local/lib/python3.9/dist-packages (from tensorboard<2.12,>=2.11->tensorflow>=2.0->keras-tuner) (0.6.1)\n",
            "Requirement already satisfied: markdown>=2.6.8 in /usr/local/lib/python3.9/dist-packages (from tensorboard<2.12,>=2.11->tensorflow>=2.0->keras-tuner) (3.4.1)\n",
            "Requirement already satisfied: tensorboard-plugin-wit>=1.6.0 in /usr/local/lib/python3.9/dist-packages (from tensorboard<2.12,>=2.11->tensorflow>=2.0->keras-tuner) (1.8.1)\n",
            "Requirement already satisfied: ptyprocess>=0.5 in /usr/local/lib/python3.9/dist-packages (from pexpect->ipython->keras-tuner) (0.7.0)\n",
            "Requirement already satisfied: rsa<5,>=3.1.4 in /usr/local/lib/python3.9/dist-packages (from google-auth<3,>=1.6.3->tensorboard<2.12,>=2.11->tensorflow>=2.0->keras-tuner) (4.9)\n",
            "Requirement already satisfied: cachetools<6.0,>=2.0.0 in /usr/local/lib/python3.9/dist-packages (from google-auth<3,>=1.6.3->tensorboard<2.12,>=2.11->tensorflow>=2.0->keras-tuner) (5.3.0)\n",
            "Requirement already satisfied: pyasn1-modules>=0.2.1 in /usr/local/lib/python3.9/dist-packages (from google-auth<3,>=1.6.3->tensorboard<2.12,>=2.11->tensorflow>=2.0->keras-tuner) (0.2.8)\n",
            "Requirement already satisfied: requests-oauthlib>=0.7.0 in /usr/local/lib/python3.9/dist-packages (from google-auth-oauthlib<0.5,>=0.4.1->tensorboard<2.12,>=2.11->tensorflow>=2.0->keras-tuner) (1.3.1)\n",
            "Requirement already satisfied: importlib-metadata>=4.4 in /usr/local/lib/python3.9/dist-packages (from markdown>=2.6.8->tensorboard<2.12,>=2.11->tensorflow>=2.0->keras-tuner) (6.1.0)\n",
            "Requirement already satisfied: MarkupSafe>=2.1.1 in /usr/local/lib/python3.9/dist-packages (from werkzeug>=1.0.1->tensorboard<2.12,>=2.11->tensorflow>=2.0->keras-tuner) (2.1.2)\n",
            "Requirement already satisfied: zipp>=0.5 in /usr/local/lib/python3.9/dist-packages (from importlib-metadata>=4.4->markdown>=2.6.8->tensorboard<2.12,>=2.11->tensorflow>=2.0->keras-tuner) (3.15.0)\n",
            "Requirement already satisfied: pyasn1<0.5.0,>=0.4.6 in /usr/local/lib/python3.9/dist-packages (from pyasn1-modules>=0.2.1->google-auth<3,>=1.6.3->tensorboard<2.12,>=2.11->tensorflow>=2.0->keras-tuner) (0.4.8)\n",
            "Requirement already satisfied: oauthlib>=3.0.0 in /usr/local/lib/python3.9/dist-packages (from requests-oauthlib>=0.7.0->google-auth-oauthlib<0.5,>=0.4.1->tensorboard<2.12,>=2.11->tensorflow>=2.0->keras-tuner) (3.2.2)\n",
            "Installing collected packages: kt-legacy, jedi, keras-tuner\n",
            "Successfully installed jedi-0.18.2 keras-tuner-1.3.0 kt-legacy-1.0.4\n"
          ]
        }
      ]
    },
    {
      "cell_type": "code",
      "source": [
        "import keras_tuner"
      ],
      "metadata": {
        "id": "R_t94xbB8WhX"
      },
      "execution_count": null,
      "outputs": []
    },
    {
      "cell_type": "code",
      "source": [
        "def build_model(hp):\n",
        "  tf.keras.backend.clear_session()\n",
        "  model = ResNet50V2(input_shape=(244,244,3), include_top=False,pooling=\"avg\")\n",
        "  model.trainable = True\n",
        "  model.compile(optimizer=Adam(), \n",
        "               loss=\"sparse_categorical_crossentropy\", \n",
        "               metrics=['accuracy'])\n",
        "  return model\n"
      ],
      "metadata": {
        "id": "PKn1mMW7LUnH"
      },
      "execution_count": null,
      "outputs": []
    },
    {
      "cell_type": "code",
      "source": [
        "tuner = keras_tuner.RandomSearch(\n",
        "    build_model,\n",
        "    objective='val_loss',\n",
        "    max_trials=10 # by default =5 \n",
        "    )"
      ],
      "metadata": {
        "colab": {
          "base_uri": "https://localhost:8080/"
        },
        "id": "kn9k-A_6LzBV",
        "outputId": "a30286fb-321c-4dc9-b8d4-a1931f9b3bd7"
      },
      "execution_count": null,
      "outputs": [
        {
          "output_type": "stream",
          "name": "stdout",
          "text": [
            "Downloading data from https://storage.googleapis.com/tensorflow/keras-applications/resnet/resnet50v2_weights_tf_dim_ordering_tf_kernels_notop.h5\n",
            "94668760/94668760 [==============================] - 1s 0us/step\n"
          ]
        }
      ]
    },
    {
      "cell_type": "code",
      "source": [
        "checkpoint = tf.keras.callbacks.ModelCheckpoint('model/resnet50v2_best.h5', \n",
        "                                                monitor='val_accuracy', verbose=1, \n",
        "                                                mode='max',save_best_only=True)\n",
        "early = tf.keras.callbacks.EarlyStopping(monitor=\"val_loss\", mode=\"max\",restore_best_weights=True, patience=5)\n",
        "callbacks_list = [checkpoint,early]\n",
        "tuner.search(train_ds, epochs=30, validation_data=val_ds,callbacks=callbacks_list)\n",
        "best_model = tuner.get_best_models()[0]\n",
        "best_hps=tuner.get_best_hyperparameters(num_trials=1)[0]"
      ],
      "metadata": {
        "colab": {
          "base_uri": "https://localhost:8080/"
        },
        "id": "s1Vjb4_6LlN0",
        "outputId": "54a21a72-5c5a-4949-90a6-572d7524fc8b"
      },
      "execution_count": null,
      "outputs": [
        {
          "output_type": "stream",
          "name": "stdout",
          "text": [
            "Trial 1 Complete [00h 04m 17s]\n",
            "val_loss: 1.0986804962158203\n",
            "\n",
            "Best val_loss So Far: 1.0986804962158203\n",
            "Total elapsed time: 00h 04m 17s\n"
          ]
        }
      ]
    },
    {
      "cell_type": "code",
      "source": [
        "model = tuner.hypermodel.build(best_hps)\n",
        "checkpoint = tf.keras.callbacks.ModelCheckpoint('model/resnet50v2_best.h5', \n",
        "                                                monitor='val_accuracy', verbose=1, \n",
        "                                                mode='max',save_best_only=True)\n",
        "early = tf.keras.callbacks.EarlyStopping(monitor=\"val_loss\", mode=\"max\",restore_best_weights=True, patience=5)\n",
        "callbacks_list = [checkpoint,early]\n",
        "\n",
        "history = model.fit(train_ds, validation_data=val_ds, epochs=30, callbacks=callbacks_list)"
      ],
      "metadata": {
        "colab": {
          "base_uri": "https://localhost:8080/"
        },
        "id": "7pZctkrVPUin",
        "outputId": "fd05b988-4805-4a5f-994a-1bdd0cb30fb5"
      },
      "execution_count": null,
      "outputs": [
        {
          "output_type": "stream",
          "name": "stdout",
          "text": [
            "Epoch 1/30\n",
            "78/78 [==============================] - ETA: 0s - loss: 4.0248 - accuracy: 0.4617\n",
            "Epoch 1: val_accuracy improved from -inf to 0.00000, saving model to model/resnet50v2_best.h5\n",
            "78/78 [==============================] - 40s 445ms/step - loss: 4.0248 - accuracy: 0.4617 - val_loss: 4.5375 - val_accuracy: 0.0000e+00\n",
            "Epoch 2/30\n",
            "78/78 [==============================] - ETA: 0s - loss: 7.1974 - accuracy: 0.2110\n",
            "Epoch 2: val_accuracy improved from 0.00000 to 0.84740, saving model to model/resnet50v2_best.h5\n",
            "78/78 [==============================] - 33s 418ms/step - loss: 7.1974 - accuracy: 0.2110 - val_loss: 4.3767 - val_accuracy: 0.8474\n",
            "Epoch 3/30\n",
            "78/78 [==============================] - ETA: 0s - loss: 6.9228 - accuracy: 0.2475\n",
            "Epoch 3: val_accuracy did not improve from 0.84740\n",
            "78/78 [==============================] - 32s 413ms/step - loss: 6.9228 - accuracy: 0.2475 - val_loss: 3.5583 - val_accuracy: 0.8474\n",
            "Epoch 4/30\n",
            "78/78 [==============================] - ETA: 0s - loss: 6.8947 - accuracy: 0.2511\n",
            "Epoch 4: val_accuracy did not improve from 0.84740\n",
            "78/78 [==============================] - 33s 423ms/step - loss: 6.8947 - accuracy: 0.2511 - val_loss: 3.7579 - val_accuracy: 0.8442\n",
            "Epoch 5/30\n",
            "78/78 [==============================] - ETA: 0s - loss: 6.7193 - accuracy: 0.2758\n",
            "Epoch 5: val_accuracy did not improve from 0.84740\n",
            "78/78 [==============================] - 31s 395ms/step - loss: 6.7193 - accuracy: 0.2758 - val_loss: 6.8141 - val_accuracy: 0.2500\n",
            "Epoch 6/30\n",
            "78/78 [==============================] - ETA: 0s - loss: 3.8353 - accuracy: 0.6460\n",
            "Epoch 6: val_accuracy did not improve from 0.84740\n",
            "78/78 [==============================] - 32s 403ms/step - loss: 3.8353 - accuracy: 0.6460 - val_loss: 0.6932 - val_accuracy: 0.8474\n",
            "Epoch 7/30\n",
            "78/78 [==============================] - ETA: 0s - loss: 0.8795 - accuracy: 0.8473\n",
            "Epoch 7: val_accuracy did not improve from 0.84740\n",
            "78/78 [==============================] - 31s 397ms/step - loss: 0.8795 - accuracy: 0.8473 - val_loss: 8.2938 - val_accuracy: 0.1510\n",
            "Epoch 8/30\n",
            "78/78 [==============================] - ETA: 0s - loss: 2.2588 - accuracy: 0.6991\n",
            "Epoch 8: val_accuracy did not improve from 0.84740\n",
            "78/78 [==============================] - 31s 403ms/step - loss: 2.2588 - accuracy: 0.6991 - val_loss: 1.6118 - val_accuracy: 0.8279\n",
            "Epoch 9/30\n",
            "78/78 [==============================] - ETA: 0s - loss: 1.5531 - accuracy: 0.7546\n",
            "Epoch 9: val_accuracy did not improve from 0.84740\n",
            "78/78 [==============================] - 31s 396ms/step - loss: 1.5531 - accuracy: 0.7546 - val_loss: 7.5788 - val_accuracy: 0.1542\n",
            "Epoch 10/30\n",
            "78/78 [==============================] - ETA: 0s - loss: 4.2988 - accuracy: 0.5302\n",
            "Epoch 10: val_accuracy did not improve from 0.84740\n",
            "78/78 [==============================] - 32s 405ms/step - loss: 4.2988 - accuracy: 0.5302 - val_loss: 5.8323 - val_accuracy: 0.3994\n",
            "Epoch 11/30\n",
            "78/78 [==============================] - ETA: 0s - loss: 6.3558 - accuracy: 0.3115\n",
            "Epoch 11: val_accuracy did not improve from 0.84740\n",
            "78/78 [==============================] - 31s 394ms/step - loss: 6.3558 - accuracy: 0.3115 - val_loss: 7.6246 - val_accuracy: 0.1526\n",
            "Epoch 12/30\n",
            "78/78 [==============================] - ETA: 0s - loss: 6.3424 - accuracy: 0.2908\n",
            "Epoch 12: val_accuracy did not improve from 0.84740\n",
            "78/78 [==============================] - 32s 406ms/step - loss: 6.3424 - accuracy: 0.2908 - val_loss: 3.1717 - val_accuracy: 0.6104\n"
          ]
        }
      ]
    },
    {
      "cell_type": "code",
      "source": [
        "his_data = pd.DataFrame(history.history)\n",
        "plt.figure(figsize=(20,5))\n",
        "\n",
        "plt.subplot(1,2,1)\n",
        "plt.plot(his_data.loss, label=\"Training loss\")\n",
        "plt.plot(his_data.val_loss, label=\"Validation loss\")\n",
        "plt.xlabel(\"Epochs\")\n",
        "plt.ylabel(\"loss\")\n",
        "plt.title(\"Losses\")\n",
        "plt.grid()\n",
        "plt.legend()\n",
        "\n",
        "plt.subplot(1,2,2)\n",
        "plt.plot(his_data.accuracy, label=\"Training accuracy\")\n",
        "plt.plot(his_data.val_accuracy, label=\"Validation accuracy\")\n",
        "plt.xlabel(\"Epochs\")\n",
        "plt.ylabel(\"Accuracy\")\n",
        "plt.title(\"Accuracy\")\n",
        "plt.grid()\n",
        "plt.legend()"
      ],
      "metadata": {
        "colab": {
          "base_uri": "https://localhost:8080/",
          "height": 310
        },
        "id": "mjF4THIMPG0V",
        "outputId": "38b0e4dc-6754-44d9-bdd4-c898f269ea21"
      },
      "execution_count": null,
      "outputs": [
        {
          "output_type": "execute_result",
          "data": {
            "text/plain": [
              "<matplotlib.legend.Legend at 0x7fec6e0e5cd0>"
            ]
          },
          "metadata": {},
          "execution_count": 17
        },
        {
          "output_type": "display_data",
          "data": {
            "text/plain": [
              "<Figure size 1440x360 with 2 Axes>"
            ],
            "image/png": "[encoded data removed]"
          },
          "metadata": {
            "needs_background": "light"
          }
        }
      ]
    },
    {
      "cell_type": "code",
      "source": [
        "test_loss, test_accuracy = model.evaluate(test_ds)"
      ],
      "metadata": {
        "colab": {
          "base_uri": "https://localhost:8080/"
        },
        "id": "f6-SNjGmPeiV",
        "outputId": "0a596af2-8296-48f1-f5ee-37fd2b69b5a3"
      },
      "execution_count": null,
      "outputs": [
        {
          "output_type": "stream",
          "name": "stdout",
          "text": [
            "2/2 [==============================] - 1s 754ms/step - loss: 5.9416 - accuracy: 0.4737\n"
          ]
        }
      ]
    },
    {
      "cell_type": "code",
      "source": [
        "print(\"test loss is: \", test_loss, \"test accuracy is: \", test_accuracy)"
      ],
      "metadata": {
        "colab": {
          "base_uri": "https://localhost:8080/"
        },
        "id": "2kIUGJxJPft7",
        "outputId": "3113aafb-4f97-4407-b938-fac62891a6f5"
      },
      "execution_count": null,
      "outputs": [
        {
          "output_type": "stream",
          "name": "stdout",
          "text": [
            "test loss is:  5.941643238067627 test accuracy is:  0.4736842215061188\n"
          ]
        }
      ]
    },
    {
      "cell_type": "code",
      "source": [
        "print(\"--- %s minutes ---\" % (int(time.time() - start_time)/60))"
      ],
      "metadata": {
        "colab": {
          "base_uri": "https://localhost:8080/"
        },
        "id": "SUZMKHaePhPk",
        "outputId": "d199bd21-4ce6-4dd5-f9ee-9081f170043a"
      },
      "execution_count": null,
      "outputs": [
        {
          "output_type": "stream",
          "name": "stdout",
          "text": [
            "--- 11.65 minutes ---\n"
          ]
        }
      ]
    }
  ]
}